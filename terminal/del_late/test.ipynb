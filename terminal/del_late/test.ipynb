{
 "cells": [
  {
   "cell_type": "code",
   "execution_count": null,
   "metadata": {},
   "outputs": [],
   "source": [
    "text = []\n",
    "word = set('Hello')\n",
    "print(len(word))\n",
    "l = 0\n",
    "while l < 10:\n",
    "    l += 1\n",
    "    print('primas while = ', l)\n",
    "    r = 0\n",
    "    while r < len(word):\n",
    "        r += 1\n",
    "        text.append(r)\n",
    "        print('antras while - ', r)\n",
    "        continue\n",
    "        "
   ]
  },
  {
   "cell_type": "code",
   "execution_count": 10,
   "metadata": {},
   "outputs": [
    {
     "name": "stdout",
     "output_type": "stream",
     "text": [
      "1\n"
     ]
    }
   ],
   "source": [
    "class A:\n",
    "    def __init__(self, a):\n",
    "        self.a = a\n",
    "        \n",
    "    def __repr__(self):\n",
    "        return f'{self.a}'\n",
    "\n",
    "class B(A):\n",
    "    \n",
    "        \n",
    "    def __repr__(self):\n",
    "        return f'{self.a}, {self.b}'\n",
    "    \n",
    "b = B(1)\n",
    "print(b.a)\n"
   ]
  }
 ],
 "metadata": {
  "kernelspec": {
   "display_name": "CA_last_work-KDRGiy7x",
   "language": "python",
   "name": "python3"
  },
  "language_info": {
   "codemirror_mode": {
    "name": "ipython",
    "version": 3
   },
   "file_extension": ".py",
   "mimetype": "text/x-python",
   "name": "python",
   "nbconvert_exporter": "python",
   "pygments_lexer": "ipython3",
   "version": "3.10.12"
  },
  "orig_nbformat": 4
 },
 "nbformat": 4,
 "nbformat_minor": 2
}
