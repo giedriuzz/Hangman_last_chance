{
 "cells": [
  {
   "cell_type": "code",
   "execution_count": 5,
   "metadata": {},
   "outputs": [
    {
     "name": "stdout",
     "output_type": "stream",
     "text": [
      "4\n",
      "primas while =  1\n",
      "antras while -  1\n",
      "antras while -  2\n",
      "antras while -  3\n",
      "antras while -  4\n",
      "primas while =  2\n",
      "antras while -  1\n",
      "antras while -  2\n",
      "antras while -  3\n",
      "antras while -  4\n",
      "primas while =  3\n",
      "antras while -  1\n",
      "antras while -  2\n",
      "antras while -  3\n",
      "antras while -  4\n",
      "primas while =  4\n",
      "antras while -  1\n",
      "antras while -  2\n",
      "antras while -  3\n",
      "antras while -  4\n",
      "primas while =  5\n",
      "antras while -  1\n",
      "antras while -  2\n",
      "antras while -  3\n",
      "antras while -  4\n",
      "primas while =  6\n",
      "antras while -  1\n",
      "antras while -  2\n",
      "antras while -  3\n",
      "antras while -  4\n",
      "primas while =  7\n",
      "antras while -  1\n",
      "antras while -  2\n",
      "antras while -  3\n",
      "antras while -  4\n",
      "primas while =  8\n",
      "antras while -  1\n",
      "antras while -  2\n",
      "antras while -  3\n",
      "antras while -  4\n",
      "primas while =  9\n",
      "antras while -  1\n",
      "antras while -  2\n",
      "antras while -  3\n",
      "antras while -  4\n",
      "primas while =  10\n",
      "antras while -  1\n",
      "antras while -  2\n",
      "antras while -  3\n",
      "antras while -  4\n"
     ]
    }
   ],
   "source": [
    "text = []\n",
    "word = set('Hello')\n",
    "print(len(word))\n",
    "l = 0\n",
    "while l < 10:\n",
    "    l += 1\n",
    "    print('primas while = ', l)\n",
    "    r = 0\n",
    "    while r < len(word):\n",
    "        r += 1\n",
    "        text.append(r)\n",
    "        print('antras while - ', r)\n",
    "        continue\n",
    "        "
   ]
  }
 ],
 "metadata": {
  "kernelspec": {
   "display_name": "CA_last_work-KDRGiy7x",
   "language": "python",
   "name": "python3"
  },
  "language_info": {
   "codemirror_mode": {
    "name": "ipython",
    "version": 3
   },
   "file_extension": ".py",
   "mimetype": "text/x-python",
   "name": "python",
   "nbconvert_exporter": "python",
   "pygments_lexer": "ipython3",
   "version": "3.10.12"
  },
  "orig_nbformat": 4
 },
 "nbformat": 4,
 "nbformat_minor": 2
}
