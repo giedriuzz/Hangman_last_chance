{
 "cells": [
  {
   "cell_type": "code",
   "execution_count": null,
   "metadata": {},
   "outputs": [],
   "source": [
    "def input_only_en_letters(input_text: str) -> str:\n",
    "    \"\"\"Validate input is a input_text\n",
    "    input_text: what text want to see in input line\"\"\"\n",
    "\n",
    "    lt_letters_list = [\"Ą\", \"Č\", \"Ę\", \"Ė\", \"Į\", \"Š\", \"Ų\", \"Ū\", \"Ž\"]\n",
    "    while True:\n",
    "        string = input(input_text).upper()\n",
    "        if len(string) == 1:\n",
    "            if (\n",
    "                string not in lt_letters_list\n",
    "                and string.replace(\" \", \"\").isalpha() is True\n",
    "            ):\n",
    "                return string\n",
    "            print(\"Input must to be a string or only English alphabet letter !\")\n",
    "        else:\n",
    "            for _ in range(len(string)):\n",
    "                for letter in string:\n",
    "                    if letter in lt_letters_list:\n",
    "                        print(\n",
    "                            f'Letter {colored(letter, \"red\")} in word must to be from English alphabetic letter'\n",
    "                        )\n",
    "                    continue\n",
    "                return string\n",
    "        # Word.not_guessed_letters_list.append(string) # FIXME #? ar reikia tos eilutės\n",
    "\n",
    "print(input_only_en_letters('Iveskite tik EN reides :'))\n"
   ]
  }
 ],
 "metadata": {
  "language_info": {
   "name": "python"
  },
  "orig_nbformat": 4
 },
 "nbformat": 4,
 "nbformat_minor": 2
}
